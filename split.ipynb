{
 "cells": [
  {
   "cell_type": "code",
   "execution_count": 17,
   "metadata": {},
   "outputs": [
    {
     "name": "stdout",
     "output_type": "stream",
     "text": [
      "[' a', 'b-c ']\n",
      "[' a.b', 'c ']\n",
      "<module 'ntpath' from 'c:\\\\python36\\\\lib\\\\ntpath.py'>\n"
     ]
    }
   ],
   "source": [
    "    import os\n",
    "    x = ' a.b-c '.rsplit('.')\n",
    "   \n",
    "    print(x)\n",
    "  \n",
    "    print(' a.b-c '.rsplit('-'))\n",
    "    print(os.path)"
   ]
  },
  {
   "cell_type": "code",
   "execution_count": null,
   "metadata": {},
   "outputs": [],
   "source": []
  }
 ],
 "metadata": {
  "kernelspec": {
   "display_name": "Python 3",
   "language": "python",
   "name": "python3"
  },
  "language_info": {
   "codemirror_mode": {
    "name": "ipython",
    "version": 3
   },
   "file_extension": ".py",
   "mimetype": "text/x-python",
   "name": "python",
   "nbconvert_exporter": "python",
   "pygments_lexer": "ipython3",
   "version": "3.6.3"
  }
 },
 "nbformat": 4,
 "nbformat_minor": 2
}
