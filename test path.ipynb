{
 "cells": [
  {
   "cell_type": "code",
   "execution_count": 5,
   "metadata": {},
   "outputs": [
    {
     "name": "stdout",
     "output_type": "stream",
     "text": [
      "\n",
      "c:\\python36\\python36.zip\n",
      "c:\\python36\\DLLs\n",
      "c:\\python36\\lib\n",
      "c:\\python36\n",
      "c:\\python36\\lib\\site-packages\n",
      "c:\\python36\\lib\\site-packages\\IPython\\extensions\n",
      "C:\\Users\\mmarti\\.ipython\n",
      "C:\\Python36\\Scripts\\Marc\n"
     ]
    }
   ],
   "source": [
    "\n",
    "import sys\n",
    "#sys.path.append('C:\\Python36\\Scripts\\Marc') \n",
    "for p in sys.path:\n",
    "    print(p)"
   ]
  },
  {
   "cell_type": "code",
   "execution_count": null,
   "metadata": {},
   "outputs": [],
   "source": []
  }
 ],
 "metadata": {
  "kernelspec": {
   "display_name": "Python 3",
   "language": "python",
   "name": "python3"
  },
  "language_info": {
   "codemirror_mode": {
    "name": "ipython",
    "version": 3
   },
   "file_extension": ".py",
   "mimetype": "text/x-python",
   "name": "python",
   "nbconvert_exporter": "python",
   "pygments_lexer": "ipython3",
   "version": "3.6.3"
  }
 },
 "nbformat": 4,
 "nbformat_minor": 2
}
